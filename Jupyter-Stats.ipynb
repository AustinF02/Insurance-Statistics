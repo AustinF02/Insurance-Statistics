{
 "cells": [
  {
   "cell_type": "markdown",
   "id": "785f9008",
   "metadata": {},
   "source": [
    "# This program creates stats report for insurance.csv"
   ]
  },
  {
   "cell_type": "code",
   "execution_count": 31,
   "id": "7da42eae",
   "metadata": {},
   "outputs": [
    {
     "name": "stdout",
     "output_type": "stream",
     "text": [
      "<class 'pandas.core.frame.DataFrame'>\n",
      "Int64Index: 1246 entries, 0 to 1336\n",
      "Data columns (total 7 columns):\n",
      " #   Column    Non-Null Count  Dtype  \n",
      "---  ------    --------------  -----  \n",
      " 0   age       1246 non-null   int64  \n",
      " 1   sex       1246 non-null   object \n",
      " 2   bmi       1246 non-null   float64\n",
      " 3   children  1246 non-null   int64  \n",
      " 4   smoker    1246 non-null   object \n",
      " 5   region    1246 non-null   object \n",
      " 6   charges   1246 non-null   float64\n",
      "dtypes: float64(2), int64(2), object(3)\n",
      "memory usage: 77.9+ KB\n",
      "\n",
      "dataset info:\n",
      " None\n"
     ]
    }
   ],
   "source": [
    "#import packages\n",
    "import pandas as pd\n",
    "import statsmodels.formula.api as smf\n",
    "\n",
    "#Read csv as DataFrame\n",
    "ins_df = pd.read_csv('insurance.csv')\n",
    "#Drop duplicates & Null & filter out age>60\n",
    "ins_df = ins_df.drop_duplicates()\n",
    "ins_df = ins_df.dropna()\n",
    "ins_df = ins_df[(ins_df.age <= 60)]\n",
    "\n",
    "print('\\ndataset info:\\n', ins_df.info())"
   ]
  },
  {
   "cell_type": "markdown",
   "id": "f74cc230",
   "metadata": {},
   "source": [
    "#### Pandas general stats & correlation"
   ]
  },
  {
   "cell_type": "code",
   "execution_count": 72,
   "id": "8addf654",
   "metadata": {},
   "outputs": [
    {
     "name": "stdout",
     "output_type": "stream",
     "text": [
      "           age      bmi  children   charges\n",
      "count  1246.00  1246.00   1246.00   1246.00\n",
      "mean     37.52    30.53      1.13  12710.62\n",
      "std      13.01     6.11      1.21  11934.52\n",
      "min      18.00    15.96      0.00   1121.87\n",
      "25%      26.00    26.12      0.00   4501.42\n",
      "50%      37.50    30.20      1.00   8610.76\n",
      "75%      49.00    34.42      2.00  16281.60\n",
      "max      60.00    53.13      5.00  63770.43\n",
      "\n",
      "Correlation\n",
      "          charges   age   bmi\n",
      "charges     1.00  0.26  0.20\n",
      "age         0.26  1.00  0.09\n",
      "bmi         0.20  0.09  1.00\n"
     ]
    }
   ],
   "source": [
    "#This creates linear regression and description of the original dataset\n",
    "print(ins_df.describe().round(2))\n",
    "new_df = ins_df[['charges','age','bmi']].copy()\n",
    "print(\"\\nCorrelation\\n\",new_df.corr().round(2))\n"
   ]
  },
  {
   "cell_type": "code",
   "execution_count": 73,
   "id": "6ae77e45",
   "metadata": {},
   "outputs": [
    {
     "name": "stdout",
     "output_type": "stream",
     "text": [
      "\n",
      "dummy variable\n",
      "    age     sex    bmi  children     region   charges  smoker_yes\n",
      "0   19  female  27.90         0  Southwest  16884.92           1\n",
      "1   18    male  33.77         1  Southeast   1725.55           0\n",
      "2   28    male  33.00         3  Southeast   4449.46           0\n",
      "3   33    male  22.70         0  Northwest  21984.47           0\n",
      "4   32    male  28.88         0  Northwest   3866.86           0\n"
     ]
    }
   ],
   "source": [
    "#Create dummy variable and save as csv file\n",
    "dm_df = pd.get_dummies(ins_df, columns=['smoker'],drop_first=True)\n",
    "print('\\ndummy variable\\n', dm_df.head().round(2))\n",
    "dm_df.to_csv('insurance cleaned with dummies')"
   ]
  },
  {
   "cell_type": "code",
   "execution_count": 5,
   "id": "0da4b524",
   "metadata": {
    "scrolled": true
   },
   "outputs": [
    {
     "name": "stdout",
     "output_type": "stream",
     "text": [
      "\n",
      "Model summary:                              OLS Regression Results                            \n",
      "==============================================================================\n",
      "Dep. Variable:             smoker_yes   R-squared:                       0.691\n",
      "Model:                            OLS   Adj. R-squared:                  0.691\n",
      "Method:                 Least Squares   F-statistic:                     1392.\n",
      "Date:                Mon, 07 Nov 2022   Prob (F-statistic):          4.59e-318\n",
      "Time:                        15:27:44   Log-Likelihood:                 100.95\n",
      "No. Observations:                1246   AIC:                            -195.9\n",
      "Df Residuals:                    1243   BIC:                            -180.5\n",
      "Df Model:                           2                                         \n",
      "Covariance Type:            nonrobust                                         \n",
      "==============================================================================\n",
      "                 coef    std err          t      P>|t|      [0.025      0.975]\n",
      "------------------------------------------------------------------------------\n",
      "Intercept      0.1424      0.019      7.322      0.000       0.104       0.181\n",
      "charges     2.895e-05   5.49e-07     52.701      0.000    2.79e-05       3e-05\n",
      "age           -0.0082      0.001    -16.288      0.000      -0.009      -0.007\n",
      "==============================================================================\n",
      "Omnibus:                      189.395   Durbin-Watson:                   1.949\n",
      "Prob(Omnibus):                  0.000   Jarque-Bera (JB):              697.892\n",
      "Skew:                           0.703   Prob(JB):                    2.85e-152\n",
      "Kurtosis:                       6.386   Cond. No.                     5.36e+04\n",
      "==============================================================================\n",
      "\n",
      "Notes:\n",
      "[1] Standard Errors assume that the covariance matrix of the errors is correctly specified.\n",
      "[2] The condition number is large, 5.36e+04. This might indicate that there are\n",
      "strong multicollinearity or other numerical problems.\n"
     ]
    }
   ],
   "source": [
    "#OLS Linear regression using dm_df.csv \n",
    "dm_df = pd.read_csv('insurance cleaned with dummies')\n",
    "model = smf.ols('''smoker_yes~charges+age''',data = dm_df).fit()\n",
    "print('\\nModel summary: ', model.summary())\n"
   ]
  },
  {
   "cell_type": "code",
   "execution_count": 16,
   "id": "ae98156a",
   "metadata": {},
   "outputs": [
    {
     "name": "stdout",
     "output_type": "stream",
     "text": [
      "Optimization terminated successfully.\n",
      "         Current function value: 0.117579\n",
      "         Iterations 9\n",
      "\n",
      "Logit Model summary:                             Logit Regression Results                           \n",
      "==============================================================================\n",
      "Dep. Variable:             smoker_yes   No. Observations:                 1246\n",
      "Model:                          Logit   Df Residuals:                     1242\n",
      "Method:                           MLE   Df Model:                            3\n",
      "Date:                Mon, 07 Nov 2022   Pseudo R-squ.:                  0.7665\n",
      "Time:                        15:33:43   Log-Likelihood:                -146.50\n",
      "converged:                       True   LL-Null:                       -627.36\n",
      "Covariance Type:            nonrobust   LLR p-value:                3.625e-208\n",
      "==============================================================================\n",
      "                 coef    std err          z      P>|z|      [0.025      0.975]\n",
      "------------------------------------------------------------------------------\n",
      "Intercept      5.1798      1.054      4.915      0.000       3.114       7.245\n",
      "charges        0.0004   2.96e-05     12.767      0.000       0.000       0.000\n",
      "bmi           -0.3399      0.044     -7.783      0.000      -0.426      -0.254\n",
      "age           -0.0988      0.014     -6.971      0.000      -0.127      -0.071\n",
      "==============================================================================\n",
      "\n",
      "The higher pseudo R-squared indicates which model better predicts the outcome.\n"
     ]
    }
   ],
   "source": [
    "#Using Logistic Regression to Predict If a Respondent Is Smoker\n",
    "model = smf.logit(formula='smoker_yes~charges'+\n",
    "                '+bmi+age',\n",
    "                data=dm_df).fit()\n",
    "print('\\nLogit Model summary: ',model.summary())\n",
    "print('\\nThe higher pseudo R-squared indicates which model better predicts the outcome.')"
   ]
  },
  {
   "cell_type": "code",
   "execution_count": 70,
   "id": "aca5bb85",
   "metadata": {
    "scrolled": true
   },
   "outputs": [
    {
     "name": "stdout",
     "output_type": "stream",
     "text": [
      "\n",
      "Avg charges, bmi and smoker by region\n",
      "       region   charges    bmi\n",
      "0  Northeast  12983.71  29.02\n",
      "1  Northwest  11952.40  29.14\n",
      "2  Southeast  14093.93  33.30\n",
      "3  Southwest  11643.10  30.33\n",
      "\n",
      "Southeast has the highest bmi & charges among all regions.\n"
     ]
    },
    {
     "name": "stderr",
     "output_type": "stream",
     "text": [
      "/var/folders/8q/rdn3d7ws0n7dczqvzmm9x2gr0000gn/T/ipykernel_74729/2693206393.py:3: FutureWarning: Indexing with multiple keys (implicitly converted to a tuple of keys) will be deprecated, use a list instead.\n",
      "  df = ins_df.groupby('region')['charges','bmi'].mean().round(2).reset_index()\n"
     ]
    }
   ],
   "source": [
    "#Group by region, avg charges & BMI\n",
    "ins_df.region = ins_df.region.str.capitalize()\n",
    "df = ins_df.groupby('region')['charges','bmi'].mean().round(2).reset_index()\n",
    "print('\\nAvg charges, bmi and smoker by region\\n',df)\n",
    "print('\\nSoutheast has the highest bmi & charges among all regions.')"
   ]
  },
  {
   "cell_type": "code",
   "execution_count": 69,
   "id": "c25a653f",
   "metadata": {
    "scrolled": true
   },
   "outputs": [
    {
     "name": "stdout",
     "output_type": "stream",
     "text": [
      "\n",
      "# of smoker by region\n",
      "       region  smoker\n",
      "0  Northeast      63\n",
      "1  Northwest      53\n",
      "2  Southeast      83\n",
      "3  Southwest      53\n",
      "\n",
      "Southeast has the most smokers in this dataset.\n"
     ]
    }
   ],
   "source": [
    "#Group by region,total smokers\n",
    "df2 = ins_df.groupby('region')['smoker'].apply(lambda x:(x=='yes').sum()).reset_index()\n",
    "print('\\n# of smoker by region\\n',df2)\n",
    "print('\\nSoutheast has the most smokers in this dataset.')"
   ]
  },
  {
   "cell_type": "code",
   "execution_count": 67,
   "id": "87f02e03",
   "metadata": {
    "scrolled": false
   },
   "outputs": [
    {
     "name": "stdout",
     "output_type": "stream",
     "text": [
      "\n",
      "Avg charges of smoker\n",
      "   smoker   charges\n",
      "0     no   7959.88\n",
      "1    yes  31449.65\n",
      "\n",
      "Smokers' charges is significantly higher.\n"
     ]
    }
   ],
   "source": [
    "#Avg Charges of smoker/non-smoker\n",
    "df3 = ins_df.groupby('smoker')['charges'].mean().round(2).reset_index()\n",
    "print('\\nAvg charges of smoker\\n',df3)\n",
    "print(\"\\nSmokers' charges is significantly higher.\")"
   ]
  },
  {
   "cell_type": "code",
   "execution_count": 74,
   "id": "0a0fabab",
   "metadata": {},
   "outputs": [
    {
     "name": "stdout",
     "output_type": "stream",
     "text": [
      "           age     sex             bmi  children smoker     region   charges\n",
      "0        Gen Z  female      overweight         0    yes  Southwest  16884.92\n",
      "1        Gen Z    male         obesity         1     no  Southeast   1725.55\n",
      "2  Millennials    male         obesity         3     no  Southeast   4449.46\n",
      "3  Millennials    male  healthy weight         0     no  Northwest  21984.47\n",
      "4  Millennials    male      overweight         0     no  Northwest   3866.86\n"
     ]
    }
   ],
   "source": [
    "#####categorize the bmi/ age groups into df\n",
    "ins_df.bmi = pd.cut(ins_df.bmi, bins=[0, 18.5, 25, 30, 100], include_lowest=True, labels=['underweight', 'healthy weight', 'overweight', 'obesity'])\n",
    "ins_df.age = pd.cut(ins_df.age, bins=[0, 27, 45, 57, 60], include_lowest=True, labels=['Gen Z','Millennials', 'Gen X', 'Baby Boomers'])\n",
    "print(ins_df.head().round(2))"
   ]
  },
  {
   "cell_type": "code",
   "execution_count": 12,
   "id": "5b8dac42",
   "metadata": {
    "scrolled": false
   },
   "outputs": [
    {
     "name": "stdout",
     "output_type": "stream",
     "text": [
      "\n",
      "#of smoker by age group\n",
      "             age  smoker\n",
      "1   Millennials     105\n",
      "0         Gen Z      77\n",
      "2         Gen X      60\n",
      "3  Baby Boomers      10\n"
     ]
    }
   ],
   "source": [
    "#num of smoker by age group\n",
    "df = ins_df.groupby('age')['smoker'].apply(lambda x:(x=='yes').sum()).reset_index()\n",
    "df =  df.sort_values('smoker', ascending=False)\n",
    "print('\\n#of smoker by age group\\n', df)"
   ]
  },
  {
   "cell_type": "code",
   "execution_count": 13,
   "id": "19154171",
   "metadata": {
    "scrolled": true
   },
   "outputs": [
    {
     "name": "stdout",
     "output_type": "stream",
     "text": [
      "\n",
      "Average charges by age group and smoker\n",
      "             age smoker   charges\n",
      "0         Gen Z     no   4146.28\n",
      "1         Gen Z    yes  27456.84\n",
      "2   Millennials     no   7014.60\n",
      "3   Millennials    yes  31042.10\n",
      "4         Gen X     no  11766.75\n",
      "5         Gen X    yes  35179.78\n",
      "6  Baby Boomers     no  14032.65\n",
      "7  Baby Boomers    yes  44079.80\n"
     ]
    }
   ],
   "source": [
    "#Average charges by age group and smoker\n",
    "df2 = ins_df.groupby(['age', 'smoker'])[\"charges\"].apply(lambda x : x.astype(int).mean()).reset_index()\n",
    "df2.charges = df2.charges.round(2)\n",
    "print('\\nAverage charges by age group and smoker\\n', df2)"
   ]
  },
  {
   "cell_type": "markdown",
   "id": "263bda8e",
   "metadata": {},
   "source": [
    "### Supervised Machine Learning"
   ]
  },
  {
   "cell_type": "code",
   "execution_count": 14,
   "id": "cc1af5ec",
   "metadata": {
    "scrolled": true
   },
   "outputs": [
    {
     "name": "stdout",
     "output_type": "stream",
     "text": [
      "0    994\n",
      "1    252\n",
      "Name: smoker_yes, dtype: int64\n",
      "training score of model: \n",
      "0.9336 \n",
      "\n",
      "testing score of model: \n",
      "0.9167 \n",
      "\n",
      "Predictions based on test data: \n",
      "[0 0 0 1 0 1 0 1 0 0 0 0 0 0 1 0 0 0 0 1 1 0 0 1 0 0 0 0 0 0 0 0 1 0 0 0 1\n",
      " 0 1 0 0 0 0 0 0 1 0 0 0 0 1 0 0 0 0 1 0 0 0 1 0 0 0 1 0 0 0 0 0 0 1 0 0 0\n",
      " 1 0 0 0 0 0 0 0 0 0 0 0 0 0 0 0 0 0 1 0 0 0 0 0 1 0 0 0 0 1 0 0 0 0 0 0 0\n",
      " 0 0 0 0 0 1 1 0 0 1 0 1 0 0 0 0 0 1 1 0 0 0 0 0 1 0 0 1 0 0 0 0 0 0 0 0 1\n",
      " 0 0 0 0 0 0 0 1 0 0 1 0 0 0 1 0 0 0 0 0 0 0 0 0 0 1 1 0 0 0 0 0 0 0 0 0 0\n",
      " 0 0 0 0 0 0 0 0 0 0 0 1 0 0 0 0 0 1 0 0 0 0 1 0 0 0 1 0 0 0 0 0 1 0 0 0 0\n",
      " 0 0 0 0 0 0 0 0 0 0 1 0 0 0 0 1 0 0 0 0 1 0 0 0 0 0 0 1 0 0 0 0 0 0 0 0 0\n",
      " 0 0 0 0 0 0 0 0 1 0 0 0 0 0 0 0 0 1 0 0 0 1 0 0 0 0 1 0 1 0 0 0 0 1 0 0 0\n",
      " 0 1 0 0 0 1 0 1 0 0 0 0 0 0 1 1]\n",
      "Number predicted to be a smoker:  54\n",
      "              precision    recall  f1-score   support\n",
      "\n",
      "           0       0.93      0.96      0.95       250\n",
      "           1       0.83      0.73      0.78        62\n",
      "\n",
      "    accuracy                           0.92       312\n",
      "   macro avg       0.88      0.84      0.86       312\n",
      "weighted avg       0.91      0.92      0.91       312\n",
      "\n"
     ]
    }
   ],
   "source": [
    "#ML to predict how many insuree is a smoker\n",
    "#import packages\n",
    "from sklearn.model_selection import train_test_split\n",
    "from sklearn.linear_model import LogisticRegression\n",
    "from sklearn.metrics import classification_report\n",
    "\n",
    "model_df = pd.read_csv('insurance cleaned with dummies')\n",
    "\n",
    "#double '[[]]' output a Pandas DataFrame\n",
    "model_y = model_df[['smoker_yes']] # Specify column for dependent variable\n",
    "model_x = model_df[['age','bmi', 'charges']]  # Specify columns for independent variable\n",
    "#print('The data type:',type(model_y),type(model_x))\n",
    "print(model_y['smoker_yes'].value_counts())\n",
    "x_train, x_test, y_train, y_test = train_test_split(model_x, model_y,\n",
    "                                    test_size=0.25, random_state = 30)\n",
    "\n",
    "\n",
    "y_train = np.ravel(y_train)\n",
    "\n",
    "classifier = LogisticRegression(solver='lbfgs').fit(x_train, y_train) # Specify\n",
    "\n",
    "\n",
    "print(\"training score of model: \")\n",
    "print(round(classifier.score(x_train, y_train), 4), \"\\n\")\n",
    "\n",
    "print(\"testing score of model: \")\n",
    "print(round(classifier.score(x_test, y_test), 4), \"\\n\")\n",
    "\n",
    "\n",
    "smoker = classifier.predict(x_test)\n",
    "\n",
    "print(\"Predictions based on test data: \")\n",
    "print(smoker)\n",
    "print(\"Number predicted to be a smoker: \", sum(smoker))\n",
    "\n",
    "print(classification_report(y_test, smoker)) # Specify\n",
    "\n"
   ]
  },
  {
   "cell_type": "markdown",
   "id": "27e956bd",
   "metadata": {},
   "source": [
    "### Create user-report with estimate insurance rate "
   ]
  },
  {
   "cell_type": "code",
   "execution_count": 76,
   "id": "a73847df",
   "metadata": {},
   "outputs": [
    {
     "name": "stdout",
     "output_type": "stream",
     "text": [
      "Enter your age: 55\n",
      "Are you a smoker? Please answer with yes or no!: no\n",
      "Please enter your weight in lbs (eg: 145.3), separated by a '.' if needed: 199.99\n",
      "Please enter your height in feet and inches, separated by a '.': 5.55\n",
      "\n",
      "\n",
      "Your self-reported Health Record\n",
      "Age:           55 \n",
      "Age Group:     Gen X\n",
      "Smoking:       no\n",
      "Height:        5.55 \n",
      "Weight:        199.99 lbs\n",
      "BMI:           31.7 \n",
      "BMI Category:  obesity\n",
      "\n",
      "Your estimate insurance charge is around $ 12000.0 USD.\n",
      "~Your actual expenses will likely vary.~\n"
     ]
    }
   ],
   "source": [
    "#Ask user's age and validate\n",
    "while True:\n",
    "    try:\n",
    "        age_g = int(input(\"Enter your age: \"))\n",
    "    except ValueError:\n",
    "        print(\"I'm sorry,the value you entered was invalid!\")\n",
    "        continue\n",
    "    else:\n",
    "        break\n",
    "#Assgin age_g into age groups\n",
    "def age_group(self):\n",
    "    if age_g<=27:\n",
    "        ageg = 'Gen Z'\n",
    "        return ageg\n",
    "    elif age_g>27 and age_g<=45:\n",
    "        ageg = 'Millennials'\n",
    "        return ageg\n",
    "    elif age_g>45 and age_g<=57:\n",
    "        ageg = 'Gen X'\n",
    "        return ageg\n",
    "    else:\n",
    "        ageg = 'Baby Boomers'\n",
    "        return ageg        \n",
    "\n",
    "#Ask user'smoking status and validate\n",
    "while True:\n",
    "    smoker = input(\"Are you a smoker? Please answer with yes or no!: \").lower()\n",
    "    if smoker not in ['yes', 'no']:\n",
    "        print(\"Please type yes or no: \")\n",
    "        continue\n",
    "    else:\n",
    "        break\n",
    "\n",
    "#Ask user input weight & height and validate\n",
    "while True:\n",
    "    try:\n",
    "        w = float(input(\"Please enter your weight in lbs (eg: 145.3), separated by a '.' if needed: \"))\n",
    "    except ValueError:\n",
    "        print(\"I'm sorry,the value you entered was not valid!\")\n",
    "        continue\n",
    "    else:\n",
    "        break\n",
    "\n",
    "while True:\n",
    "    try:\n",
    "        h = float(input(\"Please enter your height in feet and inches, separated by a '.': \"))\n",
    "    except ValueError:\n",
    "        print(\"I'm sorry,the value you entered was not valid!\")\n",
    "        continue\n",
    "    else:\n",
    "        break\n",
    "\n",
    "#calculate BMI\n",
    "def BMI_Calc(w,h):\n",
    "    return(float((w/((h*12)**2))*703))\n",
    "\n",
    "user_BMI = round(BMI_Calc(w,h), 2)\n",
    "\n",
    "#Assgin user_BMI into BMI categories\n",
    "def bmi_group(self):\n",
    "    if user_BMI < 18.5:\n",
    "        bmic = 'underweight'\n",
    "        return bmic\n",
    "    elif user_BMI >=18.5 and user_BMI < 25.0:\n",
    "        bmic = 'healthy weight'\n",
    "        return bmic\n",
    "    elif user_BMI >=25.0 and user_BMI < 30:\n",
    "        bmic = 'overweight'\n",
    "        return bmic\n",
    "    else:\n",
    "        bmic = 'obesity'\n",
    "        return bmic        \n",
    "\n",
    "#categorize the bmi/ age groups into df\n",
    "#ins_df.bmi = pd.cut(ins_df.bmi, bins=[0, 18.5, 25, 30, 100], include_lowest=True, labels=['underweight', 'healthy weight', 'overweight', 'obesity'])\n",
    "#ins_df.age = pd.cut(ins_df.age, bins=[0, 27, 45, 57, 60], include_lowest=True, labels=['Gen Z','Millennials', 'Gen X', 'Baby Boomers'])\n",
    "\n",
    "\n",
    "#Average charges by age group and smoker\n",
    "df2 = ins_df.groupby(['age', 'smoker','bmi'])[\"charges\"].apply(lambda x : x.astype(int).mean()).reset_index()\n",
    "df2.charges = df2.charges.round(-3)\n",
    "\n",
    "#filter out the charges\n",
    "r1 = df2.loc[df2['age']== age_group(age_g)]\n",
    "r2 = r1.loc[r1['smoker']== smoker]\n",
    "r3 = r2.loc[r2['bmi']== bmi_group(user_BMI)]\n",
    "\n",
    "#print health report\n",
    "print('\\n\\nYour self-reported Health Record')\n",
    "print('Age:          ',age_g,'\\nAge Group:    ',age_group(age_g))\n",
    "print('Smoking:      ',smoker)\n",
    "print('Height:       ',h,'\\nWeight:       ',w,'lbs')\n",
    "print('BMI:          ',user_BMI,'\\nBMI Category: ',bmi_group(user_BMI))\n",
    "\n",
    "#Print the estimation result\n",
    "print('\\nYour estimate insurance charge is around $',r3.charges.to_string(index=False), \"USD.\" )\n",
    "print('~Your actual expenses will likely vary.~')\n",
    "\n"
   ]
  }
 ],
 "metadata": {
  "kernelspec": {
   "display_name": "Python 3 (ipykernel)",
   "language": "python",
   "name": "python3"
  },
  "language_info": {
   "codemirror_mode": {
    "name": "ipython",
    "version": 3
   },
   "file_extension": ".py",
   "mimetype": "text/x-python",
   "name": "python",
   "nbconvert_exporter": "python",
   "pygments_lexer": "ipython3",
   "version": "3.9.12"
  }
 },
 "nbformat": 4,
 "nbformat_minor": 5
}
